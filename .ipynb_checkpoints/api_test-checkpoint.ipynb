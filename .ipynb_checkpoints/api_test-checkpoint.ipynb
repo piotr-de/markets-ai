{
 "cells": [
  {
   "cell_type": "code",
   "execution_count": 64,
   "metadata": {},
   "outputs": [],
   "source": [
    "import yfinance as yf\n",
    "import pandas as pd\n",
    "import matplotlib.pyplot as plt\n",
    "import seaborn as sns"
   ]
  },
  {
   "cell_type": "code",
   "execution_count": 143,
   "metadata": {
    "scrolled": false
   },
   "outputs": [
    {
     "data": {
      "text/html": [
       "<div>\n",
       "<style scoped>\n",
       "    .dataframe tbody tr th:only-of-type {\n",
       "        vertical-align: middle;\n",
       "    }\n",
       "\n",
       "    .dataframe tbody tr th {\n",
       "        vertical-align: top;\n",
       "    }\n",
       "\n",
       "    .dataframe thead th {\n",
       "        text-align: right;\n",
       "    }\n",
       "</style>\n",
       "<table border=\"1\" class=\"dataframe\">\n",
       "  <thead>\n",
       "    <tr style=\"text-align: right;\">\n",
       "      <th></th>\n",
       "      <th>SPX</th>\n",
       "      <th>Gold</th>\n",
       "    </tr>\n",
       "    <tr>\n",
       "      <th>Date</th>\n",
       "      <th></th>\n",
       "      <th></th>\n",
       "    </tr>\n",
       "  </thead>\n",
       "  <tbody>\n",
       "    <tr>\n",
       "      <th>2020-06-26</th>\n",
       "      <td>NaN</td>\n",
       "      <td>1784.8</td>\n",
       "    </tr>\n",
       "    <tr>\n",
       "      <th>2020-06-25</th>\n",
       "      <td>3040.7</td>\n",
       "      <td>1775.9</td>\n",
       "    </tr>\n",
       "    <tr>\n",
       "      <th>2020-06-24</th>\n",
       "      <td>3106.3</td>\n",
       "      <td>1771.0</td>\n",
       "    </tr>\n",
       "    <tr>\n",
       "      <th>2020-06-23</th>\n",
       "      <td>3134.2</td>\n",
       "      <td>1785.4</td>\n",
       "    </tr>\n",
       "    <tr>\n",
       "      <th>2020-06-22</th>\n",
       "      <td>3093.2</td>\n",
       "      <td>1767.3</td>\n",
       "    </tr>\n",
       "  </tbody>\n",
       "</table>\n",
       "</div>"
      ],
      "text/plain": [
       "               SPX    Gold\n",
       "Date                      \n",
       "2020-06-26     NaN  1784.8\n",
       "2020-06-25  3040.7  1775.9\n",
       "2020-06-24  3106.3  1771.0\n",
       "2020-06-23  3134.2  1785.4\n",
       "2020-06-22  3093.2  1767.3"
      ]
     },
     "execution_count": 143,
     "metadata": {},
     "output_type": "execute_result"
    }
   ],
   "source": [
    "spx = yf.Ticker(\"SP=F\")\n",
    "gold = yf.Ticker(\"GC=F\")\n",
    "silver = yf.Ticker(\"SI=F\")\n",
    "\n",
    "spx_gold = pd.DataFrame({\n",
    "    \"SPX\": spx.history(period=\"10y\")[\"Close\"],\n",
    "    \"Gold\": gold.history(period=\"10y\")[\"Close\"],\n",
    "    \"Silver\": silver.history(period=\"10y\")[\"Close\"],\n",
    "},\n",
    "    columns=[\"SPX\", \"Gold\"]\n",
    ")\n",
    "\n",
    "spx_gold = spx_gold.sort_values(by=\"Date\", ascending=False)\n",
    "\n",
    "spx_gold.head()"
   ]
  },
  {
   "cell_type": "code",
   "execution_count": 144,
   "metadata": {},
   "outputs": [
    {
     "name": "stdout",
     "output_type": "stream",
     "text": [
      "          SPX     Gold\n",
      "SPX   1.00000 -0.26734\n",
      "Gold -0.26734  1.00000\n"
     ]
    }
   ],
   "source": [
    "print(spx_gold.corr())"
   ]
  }
 ],
 "metadata": {
  "kernelspec": {
   "display_name": "Python 3",
   "language": "python",
   "name": "python3"
  },
  "language_info": {
   "codemirror_mode": {
    "name": "ipython",
    "version": 3
   },
   "file_extension": ".py",
   "mimetype": "text/x-python",
   "name": "python",
   "nbconvert_exporter": "python",
   "pygments_lexer": "ipython3",
   "version": "3.8.2"
  }
 },
 "nbformat": 4,
 "nbformat_minor": 2
}
