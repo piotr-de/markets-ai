{
 "cells": [
  {
   "cell_type": "code",
   "execution_count": 237,
   "metadata": {},
   "outputs": [],
   "source": [
    "import yfinance as yf\n",
    "import pandas as pd\n",
    "import matplotlib.pyplot as plt\n",
    "# import seaborn as sns"
   ]
  },
  {
   "cell_type": "code",
   "execution_count": 243,
   "metadata": {
    "scrolled": false
   },
   "outputs": [
    {
     "data": {
      "text/html": [
       "<div>\n",
       "<style scoped>\n",
       "    .dataframe tbody tr th:only-of-type {\n",
       "        vertical-align: middle;\n",
       "    }\n",
       "\n",
       "    .dataframe tbody tr th {\n",
       "        vertical-align: top;\n",
       "    }\n",
       "\n",
       "    .dataframe thead th {\n",
       "        text-align: right;\n",
       "    }\n",
       "</style>\n",
       "<table border=\"1\" class=\"dataframe\">\n",
       "  <thead>\n",
       "    <tr style=\"text-align: right;\">\n",
       "      <th></th>\n",
       "      <th>SPX</th>\n",
       "      <th>Gold</th>\n",
       "      <th>Silver</th>\n",
       "    </tr>\n",
       "    <tr>\n",
       "      <th>Date</th>\n",
       "      <th></th>\n",
       "      <th></th>\n",
       "      <th></th>\n",
       "    </tr>\n",
       "  </thead>\n",
       "  <tbody>\n",
       "    <tr>\n",
       "      <th>2000-02-28</th>\n",
       "      <td>NaN</td>\n",
       "      <td>292.5</td>\n",
       "      <td>5.048</td>\n",
       "    </tr>\n",
       "    <tr>\n",
       "      <th>2000-02-29</th>\n",
       "      <td>NaN</td>\n",
       "      <td>292.4</td>\n",
       "      <td>5.048</td>\n",
       "    </tr>\n",
       "    <tr>\n",
       "      <th>2000-03-01</th>\n",
       "      <td>NaN</td>\n",
       "      <td>291.5</td>\n",
       "      <td>5.073</td>\n",
       "    </tr>\n",
       "    <tr>\n",
       "      <th>2000-03-02</th>\n",
       "      <td>NaN</td>\n",
       "      <td>288.2</td>\n",
       "      <td>5.008</td>\n",
       "    </tr>\n",
       "    <tr>\n",
       "      <th>2000-03-03</th>\n",
       "      <td>NaN</td>\n",
       "      <td>288.8</td>\n",
       "      <td>5.099</td>\n",
       "    </tr>\n",
       "  </tbody>\n",
       "</table>\n",
       "</div>"
      ],
      "text/plain": [
       "            SPX   Gold  Silver\n",
       "Date                          \n",
       "2000-02-28  NaN  292.5   5.048\n",
       "2000-02-29  NaN  292.4   5.048\n",
       "2000-03-01  NaN  291.5   5.073\n",
       "2000-03-02  NaN  288.2   5.008\n",
       "2000-03-03  NaN  288.8   5.099"
      ]
     },
     "execution_count": 243,
     "metadata": {},
     "output_type": "execute_result"
    }
   ],
   "source": [
    "spx = yf.Ticker(\"SP=F\")\n",
    "gold = yf.Ticker(\"GC=F\")\n",
    "silver = yf.Ticker(\"SI=F\")\n",
    "\n",
    "period=\"max\"\n",
    "\n",
    "spx_metals = pd.DataFrame({\n",
    "    \"SPX\": spx.history(period=period)[\"Close\"],\n",
    "    \"Gold\": gold.history(period=period)[\"Close\"],\n",
    "    \"Silver\": silver.history(period=period)[\"Close\"],\n",
    "},\n",
    "    columns=[\"SPX\", \"Gold\", \"Silver\"]\n",
    ")\n",
    "\n",
    "# spx_metals = (spx_metals - spx_metals.mean()) / spx_metals.std()\n",
    "# spx_metals.sort_values(by=\"Date\", ascending=False, inplace=True)\n",
    "spx_metals.head()"
   ]
  },
  {
   "cell_type": "code",
   "execution_count": 244,
   "metadata": {},
   "outputs": [
    {
     "name": "stdout",
     "output_type": "stream",
     "text": [
      "             SPX      Gold    Silver\n",
      "SPX     1.000000  0.553634  0.214603\n",
      "Gold    0.553634  1.000000  0.882163\n",
      "Silver  0.214603  0.882163  1.000000\n"
     ]
    }
   ],
   "source": [
    "print(spx_metals.corr())"
   ]
  },
  {
   "cell_type": "code",
   "execution_count": 246,
   "metadata": {
    "scrolled": false
   },
   "outputs": [
    {
     "data": {
      "text/plain": [
       "<matplotlib.axes._subplots.AxesSubplot at 0x1387e6b8>"
      ]
     },
     "execution_count": 246,
     "metadata": {},
     "output_type": "execute_result"
    },
    {
     "data": {
      "image/png": "[encoded data removed]",
      "text/plain": [
       "<Figure size 432x288 with 1 Axes>"
      ]
     },
     "metadata": {
      "needs_background": "light"
     },
     "output_type": "display_data"
    }
   ],
   "source": [
    "initial = (spx_metals.iloc[0] / 100).to_dict()\n",
    "\n",
    "spx_metals_rebased = spx_metals / initial\n",
    "\n",
    "spx_metals_rebased.plot()"
   ]
  }
 ],
 "metadata": {
  "kernelspec": {
   "display_name": "Python 3",
   "language": "python",
   "name": "python3"
  },
  "language_info": {
   "codemirror_mode": {
    "name": "ipython",
    "version": 3
   },
   "file_extension": ".py",
   "mimetype": "text/x-python",
   "name": "python",
   "nbconvert_exporter": "python",
   "pygments_lexer": "ipython3",
   "version": "3.8.2"
  }
 },
 "nbformat": 4,
 "nbformat_minor": 2
}
